{
  "nbformat": 4,
  "nbformat_minor": 0,
  "metadata": {
    "colab": {
      "provenance": []
    },
    "kernelspec": {
      "name": "python3",
      "display_name": "Python 3"
    },
    "language_info": {
      "name": "python"
    }
  },
  "cells": [
    {
      "cell_type": "code",
      "source": [
        "from transformers import AutoTokenizer, AutoModelForSequenceClassification\n",
        "import torch"
      ],
      "metadata": {
        "id": "MSNNMp-hk_T1"
      },
      "execution_count": null,
      "outputs": []
    },
    {
      "cell_type": "code",
      "source": [
        "tokenizer = AutoTokenizer.from_pretrained(\"distilbert-base-uncased-finetuned-sst-2-english\")\n",
        "model = AutoModelForSequenceClassification.from_pretrained(\"distilbert-base-uncased-finetuned-sst-2-english\")"
      ],
      "metadata": {
        "colab": {
          "base_uri": "https://localhost:8080/",
          "height": 49,
          "referenced_widgets": [
            "95daf84a46fa489bab06a454847f3296",
            "2ced829ea5144fa6a554f46ad1eff6f7",
            "4507d086be8747ae9fa111bc1c776b4f",
            "afa33eac30d94addb3b4c54b2ac4e76b",
            "53abc877927c4a07a1a25bfc575565f2",
            "30e7aefca20a4866893b9d480d729372",
            "a38977019e92425284cdfc4f3d5a0d66",
            "a3829284a29a47bf9496ff9e408cfd3e",
            "c8a8b8a93a304a85848e3240ab22c44e",
            "b691c79af1a24849990818fe46599d46",
            "bcc924ff6c9f4bf8925d739647fab85a"
          ]
        },
        "id": "Vxpz8OLYostb",
        "outputId": "ccac466c-1e68-4457-ce86-a2bdeb89bce9"
      },
      "execution_count": null,
      "outputs": [
        {
          "output_type": "display_data",
          "data": {
            "text/plain": [
              "model.safetensors:   0%|          | 0.00/268M [00:00<?, ?B/s]"
            ],
            "application/vnd.jupyter.widget-view+json": {
              "version_major": 2,
              "version_minor": 0,
              "model_id": "95daf84a46fa489bab06a454847f3296"
            }
          },
          "metadata": {}
        }
      ]
    },
    {
      "cell_type": "code",
      "source": [
        "sentence = \"I Love To Play Volley Ball\""
      ],
      "metadata": {
        "id": "jt1S_fLYpK86"
      },
      "execution_count": null,
      "outputs": []
    },
    {
      "cell_type": "code",
      "source": [
        "inputs = tokenizer(sentence, return_tensors=\"pt\")"
      ],
      "metadata": {
        "id": "bVVGFFkLpmUa"
      },
      "execution_count": null,
      "outputs": []
    },
    {
      "cell_type": "code",
      "source": [
        "outputs = model(**inputs)"
      ],
      "metadata": {
        "id": "eh9-dLPDpqQ6"
      },
      "execution_count": null,
      "outputs": []
    },
    {
      "cell_type": "code",
      "source": [
        "probabilities = torch.nn.functional.softmax(outputs.logits, dim=1)"
      ],
      "metadata": {
        "id": "q7LPLE3xpvgc"
      },
      "execution_count": null,
      "outputs": []
    },
    {
      "cell_type": "code",
      "source": [
        "probabilities"
      ],
      "metadata": {
        "colab": {
          "base_uri": "https://localhost:8080/"
        },
        "id": "kF2OPSRMp4Ha",
        "outputId": "3c5983be-8664-4c5d-d50f-da7b7c52345b"
      },
      "execution_count": null,
      "outputs": [
        {
          "output_type": "execute_result",
          "data": {
            "text/plain": [
              "tensor([[3.0100e-04, 9.9970e-01]], grad_fn=<SoftmaxBackward0>)"
            ]
          },
          "metadata": {},
          "execution_count": 38
        }
      ]
    },
    {
      "cell_type": "code",
      "source": [
        "label_id = torch.argmax(probabilities).item()\n",
        "label = model.config.id2label[label_id]"
      ],
      "metadata": {
        "id": "LksPyc37p5jR"
      },
      "execution_count": null,
      "outputs": []
    },
    {
      "cell_type": "code",
      "source": [
        "label_id"
      ],
      "metadata": {
        "colab": {
          "base_uri": "https://localhost:8080/"
        },
        "id": "c8ayB4WAqA_V",
        "outputId": "ea302088-c0ed-4c7e-86b1-70f77d45c7a2"
      },
      "execution_count": null,
      "outputs": [
        {
          "output_type": "execute_result",
          "data": {
            "text/plain": [
              "1"
            ]
          },
          "metadata": {},
          "execution_count": 40
        }
      ]
    },
    {
      "cell_type": "code",
      "source": [
        "print(f\"The sentence '{sentence}' is classified as '{label}'.\")\n",
        "print(f\"Probabilities :{probabilities.tolist()}\")"
      ],
      "metadata": {
        "colab": {
          "base_uri": "https://localhost:8080/"
        },
        "id": "8c_bi8ssqikn",
        "outputId": "648b27bd-a068-4f58-996a-91ae4b734e2a"
      },
      "execution_count": null,
      "outputs": [
        {
          "output_type": "stream",
          "name": "stdout",
          "text": [
            "The sentence 'I Love To Play Volley Ball' is classified as 'POSITIVE'.\n",
            "Probabilities :[[0.0003010009531863034, 0.9996989965438843]]\n"
          ]
        }
      ]
    },
    {
      "cell_type": "code",
      "source": [],
      "metadata": {
        "id": "nF4ZpwVeq_Rp"
      },
      "execution_count": null,
      "outputs": []
    }
  ]
}